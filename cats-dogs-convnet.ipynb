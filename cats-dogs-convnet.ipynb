{
 "cells": [
  {
   "cell_type": "code",
   "execution_count": 2,
   "metadata": {},
   "outputs": [
    {
     "name": "stderr",
     "output_type": "stream",
     "text": [
      "Using TensorFlow backend.\n"
     ]
    }
   ],
   "source": [
    "from keras import layers\n",
    "from keras import models\n",
    "\n",
    "model = models.Sequential()\n",
    "model.add(layers.Conv2D(32, (3, 3), activation='relu', input_shape=(150, 150, 3)))\n",
    "model.add(layers.MaxPooling2D((2, 2)))\n",
    "model.add(layers.Conv2D(64, (3, 3), activation='relu'))\n",
    "model.add(layers.MaxPooling2D((2, 2)))\n",
    "model.add(layers.Conv2D(128, (3, 3), activation='relu'))\n",
    "model.add(layers.MaxPooling2D((2, 2)))\n",
    "model.add(layers.Conv2D(128, (3, 3), activation='relu'))\n",
    "model.add(layers.MaxPooling2D((2, 2)))\n",
    "model.add(layers.Flatten())\n",
    "model.add(layers.Dense(512, activation='relu'))\n",
    "model.add(layers.Dense(1, activation='sigmoid'))"
   ]
  },
  {
   "cell_type": "code",
   "execution_count": 3,
   "metadata": {},
   "outputs": [
    {
     "name": "stdout",
     "output_type": "stream",
     "text": [
      "_________________________________________________________________\n",
      "Layer (type)                 Output Shape              Param #   \n",
      "=================================================================\n",
      "conv2d_1 (Conv2D)            (None, 148, 148, 32)      896       \n",
      "_________________________________________________________________\n",
      "max_pooling2d_1 (MaxPooling2 (None, 74, 74, 32)        0         \n",
      "_________________________________________________________________\n",
      "conv2d_2 (Conv2D)            (None, 72, 72, 64)        18496     \n",
      "_________________________________________________________________\n",
      "max_pooling2d_2 (MaxPooling2 (None, 36, 36, 64)        0         \n",
      "_________________________________________________________________\n",
      "conv2d_3 (Conv2D)            (None, 34, 34, 128)       73856     \n",
      "_________________________________________________________________\n",
      "max_pooling2d_3 (MaxPooling2 (None, 17, 17, 128)       0         \n",
      "_________________________________________________________________\n",
      "conv2d_4 (Conv2D)            (None, 15, 15, 128)       147584    \n",
      "_________________________________________________________________\n",
      "max_pooling2d_4 (MaxPooling2 (None, 7, 7, 128)         0         \n",
      "_________________________________________________________________\n",
      "flatten_1 (Flatten)          (None, 6272)              0         \n",
      "_________________________________________________________________\n",
      "dense_1 (Dense)              (None, 512)               3211776   \n",
      "_________________________________________________________________\n",
      "dense_2 (Dense)              (None, 1)                 513       \n",
      "=================================================================\n",
      "Total params: 3,453,121\n",
      "Trainable params: 3,453,121\n",
      "Non-trainable params: 0\n",
      "_________________________________________________________________\n"
     ]
    }
   ],
   "source": [
    "model.summary()"
   ]
  },
  {
   "cell_type": "code",
   "execution_count": 4,
   "metadata": {
    "collapsed": true
   },
   "outputs": [],
   "source": [
    "from keras import optimizers\n",
    "\n",
    "model.compile(loss='binary_crossentropy',\n",
    "              optimizer=optimizers.RMSprop(lr=1e-4),\n",
    "              metrics=['acc'])"
   ]
  },
  {
   "cell_type": "code",
   "execution_count": 5,
   "metadata": {
    "collapsed": true
   },
   "outputs": [],
   "source": [
    "import os\n",
    "\n",
    "base_dir = './data/conv-dogs-cats-small'\n",
    "train_dir = os.path.join(base_dir, 'train')\n",
    "validation_dir = os.path.join(base_dir, 'validation')\n",
    "test_dir = os.path.join(base_dir, 'test')"
   ]
  },
  {
   "cell_type": "code",
   "execution_count": 6,
   "metadata": {},
   "outputs": [
    {
     "name": "stdout",
     "output_type": "stream",
     "text": [
      "Found 2000 images belonging to 2 classes.\n",
      "Found 1000 images belonging to 2 classes.\n"
     ]
    }
   ],
   "source": [
    "from keras.preprocessing.image import ImageDataGenerator\n",
    "\n",
    "train_datagen = ImageDataGenerator(rescale=1./255)\n",
    "test_datagen = ImageDataGenerator(rescale=1./255)\n",
    "\n",
    "train_generator = train_datagen.flow_from_directory(\n",
    "    train_dir,\n",
    "    target_size=(150, 150),\n",
    "    batch_size=20,\n",
    "    class_mode='binary')\n",
    "\n",
    "validation_generator = test_datagen.flow_from_directory(\n",
    "    validation_dir,\n",
    "    target_size=(150, 150),\n",
    "    batch_size=20,\n",
    "    class_mode='binary')"
   ]
  },
  {
   "cell_type": "code",
   "execution_count": 8,
   "metadata": {},
   "outputs": [
    {
     "name": "stdout",
     "output_type": "stream",
     "text": [
      "('data batch:', (20, 150, 150, 3))\n",
      "('labels batch:', (20,))\n"
     ]
    }
   ],
   "source": [
    "for data_batch, labels_batch in train_generator:\n",
    "    print('data batch:', data_batch.shape)\n",
    "    print('labels batch:', labels_batch.shape)\n",
    "    break"
   ]
  },
  {
   "cell_type": "code",
   "execution_count": 9,
   "metadata": {},
   "outputs": [
    {
     "name": "stdout",
     "output_type": "stream",
     "text": [
      "Epoch 1/30\n",
      "100/100 [==============================] - 202s - loss: 0.6862 - acc: 0.5445 - val_loss: 0.6653 - val_acc: 0.6060\n",
      "Epoch 2/30\n",
      "100/100 [==============================] - 212s - loss: 0.6557 - acc: 0.6120 - val_loss: 0.6335 - val_acc: 0.6570\n",
      "Epoch 3/30\n",
      "100/100 [==============================] - 182s - loss: 0.5992 - acc: 0.6860 - val_loss: 0.6082 - val_acc: 0.6650\n",
      "Epoch 4/30\n",
      "100/100 [==============================] - 185s - loss: 0.5601 - acc: 0.7010 - val_loss: 0.5801 - val_acc: 0.6890\n",
      "Epoch 5/30\n",
      "100/100 [==============================] - 219s - loss: 0.5328 - acc: 0.7360 - val_loss: 0.5908 - val_acc: 0.6890\n",
      "Epoch 6/30\n",
      "100/100 [==============================] - 187s - loss: 0.5182 - acc: 0.7455 - val_loss: 0.5731 - val_acc: 0.6980\n",
      "Epoch 7/30\n",
      "100/100 [==============================] - 202s - loss: 0.4905 - acc: 0.7630 - val_loss: 0.5788 - val_acc: 0.6890\n",
      "Epoch 8/30\n",
      "100/100 [==============================] - 215s - loss: 0.4555 - acc: 0.7880 - val_loss: 0.6161 - val_acc: 0.6610\n",
      "Epoch 9/30\n",
      "100/100 [==============================] - 193s - loss: 0.4351 - acc: 0.8020 - val_loss: 0.5616 - val_acc: 0.6910\n",
      "Epoch 10/30\n",
      "100/100 [==============================] - 198s - loss: 0.4138 - acc: 0.8175 - val_loss: 0.6517 - val_acc: 0.7080\n",
      "Epoch 11/30\n",
      "100/100 [==============================] - 199s - loss: 0.3883 - acc: 0.8170 - val_loss: 0.5397 - val_acc: 0.7330\n",
      "Epoch 12/30\n",
      "100/100 [==============================] - 187s - loss: 0.3621 - acc: 0.8420 - val_loss: 0.5582 - val_acc: 0.7040\n",
      "Epoch 13/30\n",
      "100/100 [==============================] - 192s - loss: 0.3444 - acc: 0.8580 - val_loss: 0.5715 - val_acc: 0.7240\n",
      "Epoch 14/30\n",
      "100/100 [==============================] - 188s - loss: 0.3152 - acc: 0.8780 - val_loss: 0.5494 - val_acc: 0.7420\n",
      "Epoch 15/30\n",
      "100/100 [==============================] - 179s - loss: 0.2978 - acc: 0.8770 - val_loss: 0.6117 - val_acc: 0.7130\n",
      "Epoch 16/30\n",
      "100/100 [==============================] - 203s - loss: 0.2781 - acc: 0.8885 - val_loss: 0.6781 - val_acc: 0.7210\n",
      "Epoch 17/30\n",
      "100/100 [==============================] - 210s - loss: 0.2606 - acc: 0.8960 - val_loss: 0.6015 - val_acc: 0.7300\n",
      "Epoch 18/30\n",
      "100/100 [==============================] - 172s - loss: 0.2320 - acc: 0.9085 - val_loss: 0.6205 - val_acc: 0.7390\n",
      "Epoch 19/30\n",
      "100/100 [==============================] - 175s - loss: 0.2158 - acc: 0.9155 - val_loss: 0.6539 - val_acc: 0.7230\n",
      "Epoch 20/30\n",
      "100/100 [==============================] - 191s - loss: 0.1998 - acc: 0.9270 - val_loss: 0.6634 - val_acc: 0.7350\n",
      "Epoch 21/30\n",
      "100/100 [==============================] - 174s - loss: 0.1750 - acc: 0.9425 - val_loss: 0.6947 - val_acc: 0.7330\n",
      "Epoch 22/30\n",
      "100/100 [==============================] - 192s - loss: 0.1560 - acc: 0.9455 - val_loss: 0.7357 - val_acc: 0.7310\n",
      "Epoch 23/30\n",
      "100/100 [==============================] - 174s - loss: 0.1465 - acc: 0.9455 - val_loss: 0.7649 - val_acc: 0.7350\n",
      "Epoch 24/30\n",
      "100/100 [==============================] - 166s - loss: 0.1219 - acc: 0.9565 - val_loss: 0.7708 - val_acc: 0.7230\n",
      "Epoch 25/30\n",
      "100/100 [==============================] - 176s - loss: 0.1192 - acc: 0.9635 - val_loss: 0.7965 - val_acc: 0.7300\n",
      "Epoch 26/30\n",
      "100/100 [==============================] - 190s - loss: 0.0929 - acc: 0.9710 - val_loss: 0.8865 - val_acc: 0.7270\n",
      "Epoch 27/30\n",
      "100/100 [==============================] - 188s - loss: 0.0875 - acc: 0.9705 - val_loss: 0.8470 - val_acc: 0.7300\n",
      "Epoch 28/30\n",
      "100/100 [==============================] - 185s - loss: 0.0735 - acc: 0.9760 - val_loss: 0.8670 - val_acc: 0.7290\n",
      "Epoch 29/30\n",
      "100/100 [==============================] - 203s - loss: 0.0676 - acc: 0.9790 - val_loss: 0.9741 - val_acc: 0.7130\n",
      "Epoch 30/30\n",
      "100/100 [==============================] - 190s - loss: 0.0548 - acc: 0.9840 - val_loss: 0.9238 - val_acc: 0.7440\n"
     ]
    }
   ],
   "source": [
    "history = model.fit_generator(\n",
    "    train_generator,\n",
    "    steps_per_epoch=100,\n",
    "    epochs=30,\n",
    "    validation_data=validation_generator,\n",
    "    validation_steps=50)"
   ]
  },
  {
   "cell_type": "code",
   "execution_count": 20,
   "metadata": {},
   "outputs": [],
   "source": [
    "model.save('saved_models/cats_and_dogs_small_1.h5')"
   ]
  },
  {
   "cell_type": "code",
   "execution_count": 21,
   "metadata": {},
   "outputs": [
    {
     "data": {
      "image/png": "[encoded data removed]",
      "text/plain": [
       "<matplotlib.figure.Figure at 0x110dcd6d0>"
      ]
     },
     "metadata": {},
     "output_type": "display_data"
    },
    {
     "data": {
      "image/png": "[encoded data removed]",
      "text/plain": [
       "<matplotlib.figure.Figure at 0x114cd1a50>"
      ]
     },
     "metadata": {},
     "output_type": "display_data"
    }
   ],
   "source": [
    "import matplotlib.pyplot as plt\n",
    "\n",
    "acc = history.history['acc']\n",
    "val_acc = history.history['val_acc']\n",
    "loss = history.history['loss']\n",
    "val_loss = history.history['val_loss']\n",
    "\n",
    "epochs = range(len(acc))\n",
    "\n",
    "plt.plot(epochs, acc, 'bo')\n",
    "plt.plot(epochs, val_acc, 'b')\n",
    "plt.title('Training and validation accuracy')\n",
    "plt.figure()\n",
    "\n",
    "plt.plot(epochs, loss, 'bo')\n",
    "plt.plot(epochs, val_loss, 'b')\n",
    "plt.title('Training and validation loss')\n",
    "\n",
    "plt.show()"
   ]
  },
  {
   "cell_type": "code",
   "execution_count": null,
   "metadata": {
    "collapsed": true
   },
   "outputs": [],
   "source": []
  }
 ],
 "metadata": {
  "kernelspec": {
   "display_name": "Python 2",
   "language": "python",
   "name": "python2"
  },
  "language_info": {
   "codemirror_mode": {
    "name": "ipython",
    "version": 2
   },
   "file_extension": ".py",
   "mimetype": "text/x-python",
   "name": "python",
   "nbconvert_exporter": "python",
   "pygments_lexer": "ipython2",
   "version": "2.7.10"
  }
 },
 "nbformat": 4,
 "nbformat_minor": 2
}
