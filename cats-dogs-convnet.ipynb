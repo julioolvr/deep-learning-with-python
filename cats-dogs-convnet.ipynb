{
 "cells": [
  {
   "cell_type": "code",
   "execution_count": 2,
   "metadata": {},
   "outputs": [
    {
     "name": "stderr",
     "output_type": "stream",
     "text": [
      "Using TensorFlow backend.\n"
     ]
    }
   ],
   "source": [
    "from keras import layers\n",
    "from keras import models\n",
    "\n",
    "model = models.Sequential()\n",
    "model.add(layers.Conv2D(32, (3, 3), activation='relu', input_shape=(150, 150, 3)))\n",
    "model.add(layers.MaxPooling2D((2, 2)))\n",
    "model.add(layers.Conv2D(64, (3, 3), activation='relu'))\n",
    "model.add(layers.MaxPooling2D((2, 2)))\n",
    "model.add(layers.Conv2D(128, (3, 3), activation='relu'))\n",
    "model.add(layers.MaxPooling2D((2, 2)))\n",
    "model.add(layers.Conv2D(128, (3, 3), activation='relu'))\n",
    "model.add(layers.MaxPooling2D((2, 2)))\n",
    "model.add(layers.Flatten())\n",
    "model.add(layers.Dense(512, activation='relu'))\n",
    "model.add(layers.Dense(1, activation='sigmoid'))"
   ]
  },
  {
   "cell_type": "code",
   "execution_count": 3,
   "metadata": {},
   "outputs": [
    {
     "name": "stdout",
     "output_type": "stream",
     "text": [
      "_________________________________________________________________\n",
      "Layer (type)                 Output Shape              Param #   \n",
      "=================================================================\n",
      "conv2d_1 (Conv2D)            (None, 148, 148, 32)      896       \n",
      "_________________________________________________________________\n",
      "max_pooling2d_1 (MaxPooling2 (None, 74, 74, 32)        0         \n",
      "_________________________________________________________________\n",
      "conv2d_2 (Conv2D)            (None, 72, 72, 64)        18496     \n",
      "_________________________________________________________________\n",
      "max_pooling2d_2 (MaxPooling2 (None, 36, 36, 64)        0         \n",
      "_________________________________________________________________\n",
      "conv2d_3 (Conv2D)            (None, 34, 34, 128)       73856     \n",
      "_________________________________________________________________\n",
      "max_pooling2d_3 (MaxPooling2 (None, 17, 17, 128)       0         \n",
      "_________________________________________________________________\n",
      "conv2d_4 (Conv2D)            (None, 15, 15, 128)       147584    \n",
      "_________________________________________________________________\n",
      "max_pooling2d_4 (MaxPooling2 (None, 7, 7, 128)         0         \n",
      "_________________________________________________________________\n",
      "flatten_1 (Flatten)          (None, 6272)              0         \n",
      "_________________________________________________________________\n",
      "dense_1 (Dense)              (None, 512)               3211776   \n",
      "_________________________________________________________________\n",
      "dense_2 (Dense)              (None, 1)                 513       \n",
      "=================================================================\n",
      "Total params: 3,453,121\n",
      "Trainable params: 3,453,121\n",
      "Non-trainable params: 0\n",
      "_________________________________________________________________\n"
     ]
    }
   ],
   "source": [
    "model.summary()"
   ]
  },
  {
   "cell_type": "code",
   "execution_count": 4,
   "metadata": {
    "collapsed": true
   },
   "outputs": [],
   "source": [
    "from keras import optimizers\n",
    "\n",
    "model.compile(loss='binary_crossentropy',\n",
    "              optimizer=optimizers.RMSprop(lr=1e-4),\n",
    "              metrics=['acc'])"
   ]
  },
  {
   "cell_type": "code",
   "execution_count": 5,
   "metadata": {
    "collapsed": true
   },
   "outputs": [],
   "source": [
    "import os\n",
    "\n",
    "base_dir = './data/conv-dogs-cats-small'\n",
    "train_dir = os.path.join(base_dir, 'train')\n",
    "validation_dir = os.path.join(base_dir, 'validation')\n",
    "test_dir = os.path.join(base_dir, 'test')"
   ]
  },
  {
   "cell_type": "code",
   "execution_count": 6,
   "metadata": {},
   "outputs": [
    {
     "name": "stdout",
     "output_type": "stream",
     "text": [
      "Found 2000 images belonging to 2 classes.\n",
      "Found 1000 images belonging to 2 classes.\n"
     ]
    }
   ],
   "source": [
    "from keras.preprocessing.image import ImageDataGenerator\n",
    "\n",
    "train_datagen = ImageDataGenerator(rescale=1./255)\n",
    "test_datagen = ImageDataGenerator(rescale=1./255)\n",
    "\n",
    "train_generator = train_datagen.flow_from_directory(\n",
    "    train_dir,\n",
    "    target_size=(150, 150),\n",
    "    batch_size=20,\n",
    "    class_mode='binary')\n",
    "\n",
    "validation_generator = test_datagen.flow_from_directory(\n",
    "    validation_dir,\n",
    "    target_size=(150, 150),\n",
    "    batch_size=20,\n",
    "    class_mode='binary')"
   ]
  },
  {
   "cell_type": "code",
   "execution_count": 8,
   "metadata": {},
   "outputs": [
    {
     "name": "stdout",
     "output_type": "stream",
     "text": [
      "('data batch:', (20, 150, 150, 3))\n",
      "('labels batch:', (20,))\n"
     ]
    }
   ],
   "source": [
    "for data_batch, labels_batch in train_generator:\n",
    "    print('data batch:', data_batch.shape)\n",
    "    print('labels batch:', labels_batch.shape)\n",
    "    break"
   ]
  },
  {
   "cell_type": "code",
   "execution_count": 9,
   "metadata": {},
   "outputs": [
    {
     "name": "stdout",
     "output_type": "stream",
     "text": [
      "Epoch 1/30\n",
      "100/100 [==============================] - 202s - loss: 0.6862 - acc: 0.5445 - val_loss: 0.6653 - val_acc: 0.6060\n",
      "Epoch 2/30\n",
      "100/100 [==============================] - 212s - loss: 0.6557 - acc: 0.6120 - val_loss: 0.6335 - val_acc: 0.6570\n",
      "Epoch 3/30\n",
      "100/100 [==============================] - 182s - loss: 0.5992 - acc: 0.6860 - val_loss: 0.6082 - val_acc: 0.6650\n",
      "Epoch 4/30\n",
      "100/100 [==============================] - 185s - loss: 0.5601 - acc: 0.7010 - val_loss: 0.5801 - val_acc: 0.6890\n",
      "Epoch 5/30\n",
      "100/100 [==============================] - 219s - loss: 0.5328 - acc: 0.7360 - val_loss: 0.5908 - val_acc: 0.6890\n",
      "Epoch 6/30\n",
      "100/100 [==============================] - 187s - loss: 0.5182 - acc: 0.7455 - val_loss: 0.5731 - val_acc: 0.6980\n",
      "Epoch 7/30\n",
      "100/100 [==============================] - 202s - loss: 0.4905 - acc: 0.7630 - val_loss: 0.5788 - val_acc: 0.6890\n",
      "Epoch 8/30\n",
      "100/100 [==============================] - 215s - loss: 0.4555 - acc: 0.7880 - val_loss: 0.6161 - val_acc: 0.6610\n",
      "Epoch 9/30\n",
      "100/100 [==============================] - 193s - loss: 0.4351 - acc: 0.8020 - val_loss: 0.5616 - val_acc: 0.6910\n",
      "Epoch 10/30\n",
      "100/100 [==============================] - 198s - loss: 0.4138 - acc: 0.8175 - val_loss: 0.6517 - val_acc: 0.7080\n",
      "Epoch 11/30\n",
      "100/100 [==============================] - 199s - loss: 0.3883 - acc: 0.8170 - val_loss: 0.5397 - val_acc: 0.7330\n",
      "Epoch 12/30\n",
      "100/100 [==============================] - 187s - loss: 0.3621 - acc: 0.8420 - val_loss: 0.5582 - val_acc: 0.7040\n",
      "Epoch 13/30\n",
      "100/100 [==============================] - 192s - loss: 0.3444 - acc: 0.8580 - val_loss: 0.5715 - val_acc: 0.7240\n",
      "Epoch 14/30\n",
      "100/100 [==============================] - 188s - loss: 0.3152 - acc: 0.8780 - val_loss: 0.5494 - val_acc: 0.7420\n",
      "Epoch 15/30\n",
      "100/100 [==============================] - 179s - loss: 0.2978 - acc: 0.8770 - val_loss: 0.6117 - val_acc: 0.7130\n",
      "Epoch 16/30\n",
      "100/100 [==============================] - 203s - loss: 0.2781 - acc: 0.8885 - val_loss: 0.6781 - val_acc: 0.7210\n",
      "Epoch 17/30\n",
      "100/100 [==============================] - 210s - loss: 0.2606 - acc: 0.8960 - val_loss: 0.6015 - val_acc: 0.7300\n",
      "Epoch 18/30\n",
      "100/100 [==============================] - 172s - loss: 0.2320 - acc: 0.9085 - val_loss: 0.6205 - val_acc: 0.7390\n",
      "Epoch 19/30\n",
      "100/100 [==============================] - 175s - loss: 0.2158 - acc: 0.9155 - val_loss: 0.6539 - val_acc: 0.7230\n",
      "Epoch 20/30\n",
      "100/100 [==============================] - 191s - loss: 0.1998 - acc: 0.9270 - val_loss: 0.6634 - val_acc: 0.7350\n",
      "Epoch 21/30\n",
      "100/100 [==============================] - 174s - loss: 0.1750 - acc: 0.9425 - val_loss: 0.6947 - val_acc: 0.7330\n",
      "Epoch 22/30\n",
      "100/100 [==============================] - 192s - loss: 0.1560 - acc: 0.9455 - val_loss: 0.7357 - val_acc: 0.7310\n",
      "Epoch 23/30\n",
      "100/100 [==============================] - 174s - loss: 0.1465 - acc: 0.9455 - val_loss: 0.7649 - val_acc: 0.7350\n",
      "Epoch 24/30\n",
      "100/100 [==============================] - 166s - loss: 0.1219 - acc: 0.9565 - val_loss: 0.7708 - val_acc: 0.7230\n",
      "Epoch 25/30\n",
      "100/100 [==============================] - 176s - loss: 0.1192 - acc: 0.9635 - val_loss: 0.7965 - val_acc: 0.7300\n",
      "Epoch 26/30\n",
      "100/100 [==============================] - 190s - loss: 0.0929 - acc: 0.9710 - val_loss: 0.8865 - val_acc: 0.7270\n",
      "Epoch 27/30\n",
      "100/100 [==============================] - 188s - loss: 0.0875 - acc: 0.9705 - val_loss: 0.8470 - val_acc: 0.7300\n",
      "Epoch 28/30\n",
      "100/100 [==============================] - 185s - loss: 0.0735 - acc: 0.9760 - val_loss: 0.8670 - val_acc: 0.7290\n",
      "Epoch 29/30\n",
      "100/100 [==============================] - 203s - loss: 0.0676 - acc: 0.9790 - val_loss: 0.9741 - val_acc: 0.7130\n",
      "Epoch 30/30\n",
      "100/100 [==============================] - 190s - loss: 0.0548 - acc: 0.9840 - val_loss: 0.9238 - val_acc: 0.7440\n"
     ]
    }
   ],
   "source": [
    "history = model.fit_generator(\n",
    "    train_generator,\n",
    "    steps_per_epoch=100,\n",
    "    epochs=30,\n",
    "    validation_data=validation_generator,\n",
    "    validation_steps=50)"
   ]
  },
  {
   "cell_type": "code",
   "execution_count": 20,
   "metadata": {},
   "outputs": [],
   "source": [
    "model.save('saved_models/cats_and_dogs_small_1.h5')"
   ]
  },
  {
   "cell_type": "code",
   "execution_count": 21,
   "metadata": {},
   "outputs": [
    {
     "data": {
      "image/png": "[encoded data removed]",
      "text/plain": [
       "<matplotlib.figure.Figure at 0x110dcd6d0>"
      ]
     },
     "metadata": {},
     "output_type": "display_data"
    },
    {
     "data": {
      "image/png": "[encoded data removed]",
      "text/plain": [
       "<matplotlib.figure.Figure at 0x114cd1a50>"
      ]
     },
     "metadata": {},
     "output_type": "display_data"
    }
   ],
   "source": [
    "import matplotlib.pyplot as plt\n",
    "\n",
    "acc = history.history['acc']\n",
    "val_acc = history.history['val_acc']\n",
    "loss = history.history['loss']\n",
    "val_loss = history.history['val_loss']\n",
    "\n",
    "epochs = range(len(acc))\n",
    "\n",
    "plt.plot(epochs, acc, 'bo')\n",
    "plt.plot(epochs, val_acc, 'b')\n",
    "plt.title('Training and validation accuracy')\n",
    "plt.figure()\n",
    "\n",
    "plt.plot(epochs, loss, 'bo')\n",
    "plt.plot(epochs, val_loss, 'b')\n",
    "plt.title('Training and validation loss')\n",
    "\n",
    "plt.show()"
   ]
  },
  {
   "cell_type": "code",
   "execution_count": 25,
   "metadata": {},
   "outputs": [
    {
     "name": "stdout",
     "output_type": "stream",
     "text": [
      "Found 2000 images belonging to 2 classes.\n",
      "Found 1000 images belonging to 2 classes.\n"
     ]
    }
   ],
   "source": [
    "train_datagen = ImageDataGenerator(\n",
    "    rescale=1./255,\n",
    "    rotation_range=40,\n",
    "    width_shift_range=0.2,\n",
    "    height_shift_range=0.2,\n",
    "    shear_range=0.2,\n",
    "    zoom_range=0.2,\n",
    "    horizontal_flip=True,\n",
    "    fill_mode='nearest')\n",
    "\n",
    "train_generator = train_datagen.flow_from_directory(\n",
    "    train_dir,\n",
    "    target_size=(150, 150),\n",
    "    batch_size=32,\n",
    "    class_mode='binary')\n",
    "\n",
    "validation_generator = test_datagen.flow_from_directory(\n",
    "    validation_dir,\n",
    "    target_size=(150, 150),\n",
    "    batch_size=32,\n",
    "    class_mode='binary')"
   ]
  },
  {
   "cell_type": "code",
   "execution_count": 27,
   "metadata": {},
   "outputs": [
    {
     "name": "stdout",
     "output_type": "stream",
     "text": [
      "Epoch 1/100\n",
      "62/62 [==============================] - 261s - loss: 0.5654 - acc: 0.7052 - val_loss: 0.5100 - val_acc: 0.7438\n",
      "Epoch 2/100\n",
      "62/62 [==============================] - 198s - loss: 0.5453 - acc: 0.7243 - val_loss: 0.5024 - val_acc: 0.7583\n",
      "Epoch 3/100\n",
      "62/62 [==============================] - 200s - loss: 0.5421 - acc: 0.7102 - val_loss: 0.4889 - val_acc: 0.7531\n",
      "Epoch 4/100\n",
      "62/62 [==============================] - 195s - loss: 0.5479 - acc: 0.7223 - val_loss: 0.5266 - val_acc: 0.7510\n",
      "Epoch 5/100\n",
      "62/62 [==============================] - 170s - loss: 0.5426 - acc: 0.7349 - val_loss: 0.5092 - val_acc: 0.7531\n",
      "Epoch 6/100\n",
      "62/62 [==============================] - 194s - loss: 0.5351 - acc: 0.7303 - val_loss: 0.5014 - val_acc: 0.7386\n",
      "Epoch 7/100\n",
      "62/62 [==============================] - 171s - loss: 0.5241 - acc: 0.7334 - val_loss: 0.4978 - val_acc: 0.7541\n",
      "Epoch 8/100\n",
      "62/62 [==============================] - 182s - loss: 0.5157 - acc: 0.7465 - val_loss: 0.5227 - val_acc: 0.7314\n",
      "Epoch 9/100\n",
      "62/62 [==============================] - 169s - loss: 0.5152 - acc: 0.7510 - val_loss: 0.4746 - val_acc: 0.7717\n",
      "Epoch 10/100\n",
      "62/62 [==============================] - 177s - loss: 0.5169 - acc: 0.7429 - val_loss: 0.4720 - val_acc: 0.7738\n",
      "Epoch 11/100\n",
      "62/62 [==============================] - 215s - loss: 0.5098 - acc: 0.7495 - val_loss: 0.4584 - val_acc: 0.7758\n",
      "Epoch 12/100\n",
      "62/62 [==============================] - 196s - loss: 0.5122 - acc: 0.7440 - val_loss: 0.4741 - val_acc: 0.7779\n",
      "Epoch 13/100\n",
      "62/62 [==============================] - 190s - loss: 0.5101 - acc: 0.7465 - val_loss: 0.4517 - val_acc: 0.7862\n",
      "Epoch 14/100\n",
      "62/62 [==============================] - 192s - loss: 0.5157 - acc: 0.7520 - val_loss: 0.4586 - val_acc: 0.7758\n",
      "Epoch 15/100\n",
      "62/62 [==============================] - 179s - loss: 0.4964 - acc: 0.7540 - val_loss: 0.4778 - val_acc: 0.7696\n",
      "Epoch 16/100\n",
      "62/62 [==============================] - 166s - loss: 0.4915 - acc: 0.7616 - val_loss: 0.4418 - val_acc: 0.7924\n",
      "Epoch 17/100\n",
      "62/62 [==============================] - 167s - loss: 0.4960 - acc: 0.7737 - val_loss: 0.4606 - val_acc: 0.7696\n",
      "Epoch 18/100\n",
      "62/62 [==============================] - 184s - loss: 0.5069 - acc: 0.7515 - val_loss: 0.4650 - val_acc: 0.7789\n",
      "Epoch 19/100\n",
      "62/62 [==============================] - 201s - loss: 0.4893 - acc: 0.7490 - val_loss: 0.4587 - val_acc: 0.7707\n",
      "Epoch 20/100\n",
      "62/62 [==============================] - 237s - loss: 0.4703 - acc: 0.7782 - val_loss: 0.4308 - val_acc: 0.7913\n",
      "Epoch 21/100\n",
      "62/62 [==============================] - 205s - loss: 0.4992 - acc: 0.7480 - val_loss: 0.4810 - val_acc: 0.7665\n",
      "Epoch 22/100\n",
      "62/62 [==============================] - 197s - loss: 0.4866 - acc: 0.7556 - val_loss: 0.4839 - val_acc: 0.7676\n",
      "Epoch 23/100\n",
      "62/62 [==============================] - 173s - loss: 0.4895 - acc: 0.7641 - val_loss: 0.4500 - val_acc: 0.7955\n",
      "Epoch 24/100\n",
      "62/62 [==============================] - 196s - loss: 0.4823 - acc: 0.7570 - val_loss: 0.4420 - val_acc: 0.7903\n",
      "Epoch 25/100\n",
      "62/62 [==============================] - 295s - loss: 0.4889 - acc: 0.7495 - val_loss: 0.4560 - val_acc: 0.7810\n",
      "Epoch 26/100\n",
      "62/62 [==============================] - 237s - loss: 0.4708 - acc: 0.7772 - val_loss: 0.4323 - val_acc: 0.7986\n",
      "Epoch 27/100\n",
      "62/62 [==============================] - 265s - loss: 0.4694 - acc: 0.7676 - val_loss: 0.4434 - val_acc: 0.7913\n",
      "Epoch 28/100\n",
      "62/62 [==============================] - 208s - loss: 0.4888 - acc: 0.7591 - val_loss: 0.4314 - val_acc: 0.7933\n",
      "Epoch 29/100\n",
      "62/62 [==============================] - 180s - loss: 0.4604 - acc: 0.7692 - val_loss: 0.4233 - val_acc: 0.8079\n",
      "Epoch 30/100\n",
      "62/62 [==============================] - 174s - loss: 0.4543 - acc: 0.7752 - val_loss: 0.4773 - val_acc: 0.7831\n",
      "Epoch 31/100\n",
      "62/62 [==============================] - 169s - loss: 0.4617 - acc: 0.7808 - val_loss: 0.4150 - val_acc: 0.8017\n",
      "Epoch 32/100\n",
      "62/62 [==============================] - 170s - loss: 0.4367 - acc: 0.7948 - val_loss: 0.4490 - val_acc: 0.7944\n",
      "Epoch 33/100\n",
      "62/62 [==============================] - 166s - loss: 0.4672 - acc: 0.7893 - val_loss: 0.4075 - val_acc: 0.8151\n",
      "Epoch 34/100\n",
      "62/62 [==============================] - 164s - loss: 0.4543 - acc: 0.7964 - val_loss: 0.4536 - val_acc: 0.7841\n",
      "Epoch 35/100\n",
      "62/62 [==============================] - 165s - loss: 0.4571 - acc: 0.7807 - val_loss: 0.4245 - val_acc: 0.8058\n",
      "Epoch 36/100\n",
      "62/62 [==============================] - 165s - loss: 0.4656 - acc: 0.7818 - val_loss: 0.4410 - val_acc: 0.7934\n",
      "Epoch 37/100\n",
      "62/62 [==============================] - 164s - loss: 0.4593 - acc: 0.7797 - val_loss: 0.4781 - val_acc: 0.7924\n",
      "Epoch 38/100\n",
      "62/62 [==============================] - 165s - loss: 0.4460 - acc: 0.7999 - val_loss: 0.4845 - val_acc: 0.7686\n",
      "Epoch 39/100\n",
      "62/62 [==============================] - 166s - loss: 0.4508 - acc: 0.7782 - val_loss: 0.5441 - val_acc: 0.7510\n",
      "Epoch 40/100\n",
      "62/62 [==============================] - 166s - loss: 0.4531 - acc: 0.7833 - val_loss: 0.4673 - val_acc: 0.7810\n",
      "Epoch 41/100\n",
      "62/62 [==============================] - 167s - loss: 0.4413 - acc: 0.8019 - val_loss: 0.4821 - val_acc: 0.7872\n",
      "Epoch 42/100\n",
      "62/62 [==============================] - 167s - loss: 0.4439 - acc: 0.7787 - val_loss: 0.4471 - val_acc: 0.8068\n",
      "Epoch 43/100\n",
      "62/62 [==============================] - 166s - loss: 0.4334 - acc: 0.8090 - val_loss: 0.4629 - val_acc: 0.7820\n",
      "Epoch 44/100\n",
      "62/62 [==============================] - 171s - loss: 0.4603 - acc: 0.7767 - val_loss: 0.4273 - val_acc: 0.8037\n",
      "Epoch 45/100\n",
      "62/62 [==============================] - 169s - loss: 0.4103 - acc: 0.8075 - val_loss: 0.4120 - val_acc: 0.8130\n",
      "Epoch 46/100\n",
      "62/62 [==============================] - 168s - loss: 0.4393 - acc: 0.7928 - val_loss: 0.4424 - val_acc: 0.7872\n",
      "Epoch 47/100\n",
      "62/62 [==============================] - 165s - loss: 0.4203 - acc: 0.8019 - val_loss: 0.4240 - val_acc: 0.7924\n",
      "Epoch 48/100\n",
      "62/62 [==============================] - 165s - loss: 0.4475 - acc: 0.7964 - val_loss: 0.4580 - val_acc: 0.7955\n",
      "Epoch 49/100\n",
      "62/62 [==============================] - 166s - loss: 0.4137 - acc: 0.8045 - val_loss: 0.4014 - val_acc: 0.8151\n",
      "Epoch 50/100\n",
      "62/62 [==============================] - 166s - loss: 0.4380 - acc: 0.7938 - val_loss: 0.5231 - val_acc: 0.7459\n",
      "Epoch 51/100\n",
      "62/62 [==============================] - 170s - loss: 0.4170 - acc: 0.8034 - val_loss: 0.4023 - val_acc: 0.8326\n",
      "Epoch 52/100\n",
      "62/62 [==============================] - 166s - loss: 0.4353 - acc: 0.7999 - val_loss: 0.4667 - val_acc: 0.7820\n",
      "Epoch 53/100\n",
      "62/62 [==============================] - 166s - loss: 0.4169 - acc: 0.8065 - val_loss: 0.4116 - val_acc: 0.8182\n",
      "Epoch 54/100\n",
      "62/62 [==============================] - 166s - loss: 0.4301 - acc: 0.8014 - val_loss: 0.4077 - val_acc: 0.8202\n",
      "Epoch 55/100\n",
      "62/62 [==============================] - 164s - loss: 0.4127 - acc: 0.8196 - val_loss: 0.3930 - val_acc: 0.8171\n",
      "Epoch 56/100\n",
      "62/62 [==============================] - 166s - loss: 0.4375 - acc: 0.7949 - val_loss: 0.4964 - val_acc: 0.7583\n",
      "Epoch 57/100\n",
      "62/62 [==============================] - 165s - loss: 0.3927 - acc: 0.8185 - val_loss: 0.5139 - val_acc: 0.7800\n",
      "Epoch 58/100\n",
      "62/62 [==============================] - 166s - loss: 0.4124 - acc: 0.8024 - val_loss: 0.4331 - val_acc: 0.7996\n",
      "Epoch 59/100\n",
      "62/62 [==============================] - 164s - loss: 0.4146 - acc: 0.8049 - val_loss: 0.3744 - val_acc: 0.8326\n",
      "Epoch 60/100\n",
      "62/62 [==============================] - 166s - loss: 0.4203 - acc: 0.7974 - val_loss: 0.4634 - val_acc: 0.7812\n",
      "Epoch 61/100\n",
      "62/62 [==============================] - 165s - loss: 0.4094 - acc: 0.8185 - val_loss: 0.4038 - val_acc: 0.8213\n",
      "Epoch 62/100\n",
      "62/62 [==============================] - 165s - loss: 0.4180 - acc: 0.8059 - val_loss: 0.4145 - val_acc: 0.8089\n",
      "Epoch 63/100\n",
      "62/62 [==============================] - 165s - loss: 0.4068 - acc: 0.8145 - val_loss: 0.4005 - val_acc: 0.8171\n",
      "Epoch 64/100\n",
      "62/62 [==============================] - 165s - loss: 0.4055 - acc: 0.8125 - val_loss: 0.4496 - val_acc: 0.8089\n",
      "Epoch 65/100\n",
      "62/62 [==============================] - 165s - loss: 0.4093 - acc: 0.8130 - val_loss: 0.3685 - val_acc: 0.8512\n",
      "Epoch 66/100\n"
     ]
    },
    {
     "name": "stdout",
     "output_type": "stream",
     "text": [
      "62/62 [==============================] - 166s - loss: 0.4152 - acc: 0.8105 - val_loss: 0.4446 - val_acc: 0.7779\n",
      "Epoch 67/100\n",
      "62/62 [==============================] - 166s - loss: 0.3904 - acc: 0.8241 - val_loss: 0.4093 - val_acc: 0.8285\n",
      "Epoch 68/100\n",
      "62/62 [==============================] - 165s - loss: 0.4027 - acc: 0.8100 - val_loss: 0.4044 - val_acc: 0.8182\n",
      "Epoch 69/100\n",
      "62/62 [==============================] - 165s - loss: 0.4072 - acc: 0.8150 - val_loss: 0.5065 - val_acc: 0.7459\n",
      "Epoch 70/100\n",
      "62/62 [==============================] - 165s - loss: 0.3988 - acc: 0.8221 - val_loss: 0.3983 - val_acc: 0.8316\n",
      "Epoch 71/100\n",
      "62/62 [==============================] - 167s - loss: 0.4115 - acc: 0.8100 - val_loss: 0.3997 - val_acc: 0.8140\n",
      "Epoch 72/100\n",
      "62/62 [==============================] - 167s - loss: 0.3834 - acc: 0.8337 - val_loss: 0.4567 - val_acc: 0.7934\n",
      "Epoch 73/100\n",
      "62/62 [==============================] - 169s - loss: 0.4024 - acc: 0.8221 - val_loss: 0.4143 - val_acc: 0.8202\n",
      "Epoch 74/100\n",
      "62/62 [==============================] - 170s - loss: 0.3957 - acc: 0.8246 - val_loss: 0.4083 - val_acc: 0.8202\n",
      "Epoch 75/100\n",
      "62/62 [==============================] - 170s - loss: 0.3886 - acc: 0.8170 - val_loss: 0.3935 - val_acc: 0.8316\n",
      "Epoch 76/100\n",
      "62/62 [==============================] - 170s - loss: 0.3795 - acc: 0.8316 - val_loss: 0.3713 - val_acc: 0.8316\n",
      "Epoch 77/100\n",
      "62/62 [==============================] - 168s - loss: 0.4062 - acc: 0.8221 - val_loss: 0.3884 - val_acc: 0.8295\n",
      "Epoch 78/100\n",
      "62/62 [==============================] - 167s - loss: 0.3763 - acc: 0.8387 - val_loss: 0.4661 - val_acc: 0.7800\n",
      "Epoch 79/100\n",
      "62/62 [==============================] - 166s - loss: 0.3858 - acc: 0.8155 - val_loss: 0.3929 - val_acc: 0.8254\n",
      "Epoch 80/100\n",
      "62/62 [==============================] - 168s - loss: 0.3825 - acc: 0.8206 - val_loss: 0.4284 - val_acc: 0.8264\n",
      "Epoch 81/100\n",
      "62/62 [==============================] - 168s - loss: 0.3957 - acc: 0.8211 - val_loss: 0.4042 - val_acc: 0.8202\n",
      "Epoch 82/100\n",
      "62/62 [==============================] - 168s - loss: 0.3743 - acc: 0.8332 - val_loss: 0.4142 - val_acc: 0.8058\n",
      "Epoch 83/100\n",
      "62/62 [==============================] - 168s - loss: 0.3784 - acc: 0.8337 - val_loss: 0.4015 - val_acc: 0.8285\n",
      "Epoch 84/100\n",
      "62/62 [==============================] - 167s - loss: 0.3822 - acc: 0.8160 - val_loss: 0.3842 - val_acc: 0.8223\n",
      "Epoch 85/100\n",
      "62/62 [==============================] - 166s - loss: 0.3952 - acc: 0.8170 - val_loss: 0.3905 - val_acc: 0.8182\n",
      "Epoch 86/100\n",
      "62/62 [==============================] - 165s - loss: 0.3781 - acc: 0.8347 - val_loss: 0.3907 - val_acc: 0.8337\n",
      "Epoch 87/100\n",
      "62/62 [==============================] - 166s - loss: 0.3673 - acc: 0.8392 - val_loss: 0.3715 - val_acc: 0.8337\n",
      "Epoch 88/100\n",
      "62/62 [==============================] - 164s - loss: 0.3753 - acc: 0.8271 - val_loss: 0.4450 - val_acc: 0.7986\n",
      "Epoch 89/100\n",
      "62/62 [==============================] - 173s - loss: 0.3790 - acc: 0.8322 - val_loss: 0.4136 - val_acc: 0.8068\n",
      "Epoch 90/100\n",
      "62/62 [==============================] - 164s - loss: 0.3821 - acc: 0.8261 - val_loss: 0.3813 - val_acc: 0.8233\n",
      "Epoch 91/100\n",
      "62/62 [==============================] - 162s - loss: 0.3754 - acc: 0.8221 - val_loss: 0.4130 - val_acc: 0.8099\n",
      "Epoch 92/100\n",
      "62/62 [==============================] - 166s - loss: 0.3686 - acc: 0.8266 - val_loss: 0.4256 - val_acc: 0.8175\n",
      "Epoch 93/100\n",
      "62/62 [==============================] - 166s - loss: 0.3539 - acc: 0.8382 - val_loss: 0.4655 - val_acc: 0.7665\n",
      "Epoch 94/100\n",
      "62/62 [==============================] - 165s - loss: 0.3616 - acc: 0.8387 - val_loss: 0.4126 - val_acc: 0.8347\n",
      "Epoch 95/100\n",
      "62/62 [==============================] - 165s - loss: 0.3643 - acc: 0.8271 - val_loss: 0.3905 - val_acc: 0.8275\n",
      "Epoch 96/100\n",
      "62/62 [==============================] - 167s - loss: 0.3669 - acc: 0.8311 - val_loss: 0.3859 - val_acc: 0.8295\n",
      "Epoch 97/100\n",
      "62/62 [==============================] - 163s - loss: 0.3662 - acc: 0.8463 - val_loss: 0.4783 - val_acc: 0.7944\n",
      "Epoch 98/100\n",
      "62/62 [==============================] - 163s - loss: 0.3718 - acc: 0.8352 - val_loss: 0.4235 - val_acc: 0.8244\n",
      "Epoch 99/100\n",
      "62/62 [==============================] - 163s - loss: 0.3835 - acc: 0.8281 - val_loss: 0.3942 - val_acc: 0.8295\n",
      "Epoch 100/100\n",
      "62/62 [==============================] - 157s - loss: 0.3539 - acc: 0.8387 - val_loss: 0.4327 - val_acc: 0.8213\n"
     ]
    }
   ],
   "source": [
    "history = model.fit_generator(\n",
    "    train_generator,\n",
    "    steps_per_epoch=62,\n",
    "    epochs=100,\n",
    "    validation_data=validation_generator,\n",
    "    validation_steps=31)"
   ]
  },
  {
   "cell_type": "code",
   "execution_count": 28,
   "metadata": {
    "collapsed": true
   },
   "outputs": [],
   "source": [
    "model.save('saved_models/cats_and_dogs_small_2.h5')"
   ]
  },
  {
   "cell_type": "code",
   "execution_count": 29,
   "metadata": {},
   "outputs": [
    {
     "data": {
      "image/png": "[encoded data removed]",
      "text/plain": [
       "<matplotlib.figure.Figure at 0x1161432d0>"
      ]
     },
     "metadata": {},
     "output_type": "display_data"
    },
    {
     "data": {
      "image/png": "[encoded data removed]",
      "text/plain": [
       "<matplotlib.figure.Figure at 0x10f3c0f10>"
      ]
     },
     "metadata": {},
     "output_type": "display_data"
    }
   ],
   "source": [
    "acc = history.history['acc']\n",
    "val_acc = history.history['val_acc']\n",
    "loss = history.history['loss']\n",
    "val_loss = history.history['val_loss']\n",
    "\n",
    "epochs = range(len(acc))\n",
    "\n",
    "plt.plot(epochs, acc, 'bo')\n",
    "plt.plot(epochs, val_acc, 'b')\n",
    "plt.title('Training and validation accuracy')\n",
    "plt.figure()\n",
    "\n",
    "plt.plot(epochs, loss, 'bo')\n",
    "plt.plot(epochs, val_loss, 'b')\n",
    "plt.title('Training and validation loss')\n",
    "\n",
    "plt.show()"
   ]
  },
  {
   "cell_type": "code",
   "execution_count": null,
   "metadata": {
    "collapsed": true
   },
   "outputs": [],
   "source": []
  }
 ],
 "metadata": {
  "kernelspec": {
   "display_name": "Python 2",
   "language": "python",
   "name": "python2"
  },
  "language_info": {
   "codemirror_mode": {
    "name": "ipython",
    "version": 2
   },
   "file_extension": ".py",
   "mimetype": "text/x-python",
   "name": "python",
   "nbconvert_exporter": "python",
   "pygments_lexer": "ipython2",
   "version": "2.7.10"
  }
 },
 "nbformat": 4,
 "nbformat_minor": 2
}
