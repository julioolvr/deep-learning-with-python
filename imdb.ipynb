{
 "cells": [
  {
   "cell_type": "code",
   "execution_count": 1,
   "metadata": {},
   "outputs": [
    {
     "name": "stderr",
     "output_type": "stream",
     "text": [
      "Using TensorFlow backend.\n"
     ]
    }
   ],
   "source": [
    "from keras.datasets import imdb\n",
    "from keras import models\n",
    "from keras import layers\n",
    "import numpy as np"
   ]
  },
  {
   "cell_type": "code",
   "execution_count": 2,
   "metadata": {
    "collapsed": true
   },
   "outputs": [],
   "source": [
    "def vectorize_sequences(sequences, dimension=10000):\n",
    "  results = np.zeros((len(sequences), dimension))\n",
    "\n",
    "  for i, sequence in enumerate(sequences):\n",
    "    results[i, sequence] = 1.\n",
    "\n",
    "  return results\n"
   ]
  },
  {
   "cell_type": "code",
   "execution_count": 4,
   "metadata": {
    "collapsed": true
   },
   "outputs": [],
   "source": [
    "(train_data, train_labels), (test_data, test_labels) = imdb.load_data(num_words=10000)"
   ]
  },
  {
   "cell_type": "code",
   "execution_count": 5,
   "metadata": {
    "collapsed": true
   },
   "outputs": [],
   "source": [
    "x_train = vectorize_sequences(train_data)\n",
    "x_test = vectorize_sequences(test_data)\n",
    "y_train = np.asarray(train_labels).astype('float32')\n",
    "y_test = np.asarray(test_labels).astype('float32')"
   ]
  },
  {
   "cell_type": "code",
   "execution_count": 6,
   "metadata": {
    "collapsed": true
   },
   "outputs": [],
   "source": [
    "model = models.Sequential()\n",
    "model.add(layers.Dense(16, activation='relu', input_shape=(10000,)))\n",
    "model.add(layers.Dense(16, activation='relu'))\n",
    "model.add(layers.Dense(1, activation='sigmoid'))"
   ]
  },
  {
   "cell_type": "code",
   "execution_count": 7,
   "metadata": {
    "collapsed": true
   },
   "outputs": [],
   "source": [
    "model.compile(optimizer='rmsprop',\n",
    "              loss='binary_crossentropy',\n",
    "              metrics=['accuracy'])"
   ]
  },
  {
   "cell_type": "code",
   "execution_count": 9,
   "metadata": {
    "collapsed": true
   },
   "outputs": [],
   "source": [
    "x_val = x_train[:10000]\n",
    "partial_x_train = x_train[10000:]\n",
    "y_val = y_train[:10000]\n",
    "partial_y_train = y_train[10000:]"
   ]
  },
  {
   "cell_type": "code",
   "execution_count": 25,
   "metadata": {},
   "outputs": [
    {
     "name": "stdout",
     "output_type": "stream",
     "text": [
      "Train on 15000 samples, validate on 10000 samples\n",
      "Epoch 1/20\n",
      "15000/15000 [==============================] - 4s - loss: 7.0387e-04 - acc: 0.9999 - val_loss: 0.9404 - val_acc: 0.8619\n",
      "Epoch 2/20\n",
      "15000/15000 [==============================] - 2s - loss: 2.2124e-04 - acc: 1.0000 - val_loss: 0.9741 - val_acc: 0.8615\n",
      "Epoch 3/20\n",
      "15000/15000 [==============================] - 2s - loss: 0.0014 - acc: 0.9995 - val_loss: 1.0067 - val_acc: 0.8615\n",
      "Epoch 4/20\n",
      "15000/15000 [==============================] - 2s - loss: 1.2596e-04 - acc: 1.0000 - val_loss: 1.0172 - val_acc: 0.8607\n",
      "Epoch 5/20\n",
      "15000/15000 [==============================] - 2s - loss: 9.7671e-05 - acc: 1.0000 - val_loss: 1.0378 - val_acc: 0.8614\n",
      "Epoch 6/20\n",
      "15000/15000 [==============================] - 2s - loss: 7.8470e-05 - acc: 1.0000 - val_loss: 1.2033 - val_acc: 0.8546\n",
      "Epoch 7/20\n",
      "15000/15000 [==============================] - 2s - loss: 8.0973e-04 - acc: 0.9999 - val_loss: 1.0879 - val_acc: 0.8593\n",
      "Epoch 8/20\n",
      "15000/15000 [==============================] - 3s - loss: 4.7634e-05 - acc: 1.0000 - val_loss: 1.0999 - val_acc: 0.8601\n",
      "Epoch 9/20\n",
      "15000/15000 [==============================] - 2s - loss: 3.7135e-05 - acc: 1.0000 - val_loss: 1.1284 - val_acc: 0.8603\n",
      "Epoch 10/20\n",
      "15000/15000 [==============================] - 2s - loss: 0.0015 - acc: 0.9995 - val_loss: 1.1662 - val_acc: 0.8610\n",
      "Epoch 11/20\n",
      "15000/15000 [==============================] - 2s - loss: 2.3931e-05 - acc: 1.0000 - val_loss: 1.1711 - val_acc: 0.8587\n",
      "Epoch 12/20\n",
      "15000/15000 [==============================] - 2s - loss: 1.9055e-05 - acc: 1.0000 - val_loss: 1.1797 - val_acc: 0.8592\n",
      "Epoch 13/20\n",
      "15000/15000 [==============================] - 2s - loss: 1.6265e-05 - acc: 1.0000 - val_loss: 1.1952 - val_acc: 0.8596\n",
      "Epoch 14/20\n",
      "15000/15000 [==============================] - 2s - loss: 1.2563e-05 - acc: 1.0000 - val_loss: 1.2242 - val_acc: 0.8584\n",
      "Epoch 15/20\n",
      "15000/15000 [==============================] - 2s - loss: 0.0022 - acc: 0.9995 - val_loss: 1.2506 - val_acc: 0.8588\n",
      "Epoch 16/20\n",
      "15000/15000 [==============================] - 2s - loss: 8.3658e-06 - acc: 1.0000 - val_loss: 1.2521 - val_acc: 0.8585\n",
      "Epoch 17/20\n",
      "15000/15000 [==============================] - 2s - loss: 6.9021e-06 - acc: 1.0000 - val_loss: 1.2586 - val_acc: 0.8587\n",
      "Epoch 18/20\n",
      "15000/15000 [==============================] - 3s - loss: 5.8541e-06 - acc: 1.0000 - val_loss: 1.2690 - val_acc: 0.8575\n",
      "Epoch 19/20\n",
      "15000/15000 [==============================] - 2s - loss: 4.7692e-06 - acc: 1.0000 - val_loss: 1.2887 - val_acc: 0.8578\n",
      "Epoch 20/20\n",
      "15000/15000 [==============================] - 2s - loss: 0.0015 - acc: 0.9994 - val_loss: 1.3200 - val_acc: 0.8566\n"
     ]
    }
   ],
   "source": [
    "history = model.fit(partial_x_train,\n",
    "                    partial_y_train,\n",
    "                    epochs=20,\n",
    "                    batch_size=512,\n",
    "                    validation_data=(x_val, y_val))"
   ]
  },
  {
   "cell_type": "code",
   "execution_count": 15,
   "metadata": {},
   "outputs": [
    {
     "name": "stderr",
     "output_type": "stream",
     "text": [
      "/Users/joliv/Dev/deep-learning-python/env/lib/python2.7/site-packages/matplotlib/font_manager.py:280: UserWarning: Matplotlib is building the font cache using fc-list. This may take a moment.\n",
      "  'Matplotlib is building the font cache using fc-list. '\n"
     ]
    }
   ],
   "source": [
    "import matplotlib.pyplot as plt"
   ]
  },
  {
   "cell_type": "code",
   "execution_count": 26,
   "metadata": {
    "collapsed": true
   },
   "outputs": [],
   "source": [
    "history_dict = history.history\n",
    "epochs = range(1, len(loss_values) + 1)"
   ]
  },
  {
   "cell_type": "code",
   "execution_count": 27,
   "metadata": {
    "scrolled": true
   },
   "outputs": [
    {
     "data": {
      "image/png": "[encoded data removed]",
      "text/plain": [
       "<matplotlib.figure.Figure at 0x10f2a0210>"
      ]
     },
     "metadata": {},
     "output_type": "display_data"
    }
   ],
   "source": [
    "loss_values = history_dict['loss']\n",
    "val_loss_values = history_dict['val_loss']\n",
    "\n",
    "plt.plot(epochs, loss_values, 'bo')\n",
    "plt.plot(epochs, val_loss_values, 'b+')\n",
    "plt.xlabel('Epochs')\n",
    "plt.ylabel('Loss')\n",
    "\n",
    "plt.show()"
   ]
  },
  {
   "cell_type": "code",
   "execution_count": 28,
   "metadata": {},
   "outputs": [
    {
     "data": {
      "image/png": "[encoded data removed]",
      "text/plain": [
       "<matplotlib.figure.Figure at 0x10f033d50>"
      ]
     },
     "metadata": {},
     "output_type": "display_data"
    }
   ],
   "source": [
    "acc_values = history_dict['acc']\n",
    "val_acc_values = history_dict['val_acc']\n",
    "\n",
    "plt.plot(epochs, acc_values, 'bo')\n",
    "plt.plot(epochs, val_acc_values, 'b+')\n",
    "plt.xlabel('Epochs')\n",
    "plt.ylabel('Accuracy')\n",
    "\n",
    "plt.show()"
   ]
  },
  {
   "cell_type": "code",
   "execution_count": 29,
   "metadata": {},
   "outputs": [
    {
     "name": "stdout",
     "output_type": "stream",
     "text": [
      "[[ 0.00128485]]\n"
     ]
    }
   ],
   "source": [
    "word_index = imdb.get_word_index()\n",
    "some_review = 'the movie sucks everything is terrible i would not watch it again horrible awful'\n",
    "encoded_review = [1] + map(lambda s: word_index.get(s, -1) + 3, some_review.split(' '))\n",
    "print model.predict(vectorize_sequences([encoded_review]))"
   ]
  }
 ],
 "metadata": {
  "kernelspec": {
   "display_name": "Python 2",
   "language": "python",
   "name": "python2"
  },
  "language_info": {
   "codemirror_mode": {
    "name": "ipython",
    "version": 2
   },
   "file_extension": ".py",
   "mimetype": "text/x-python",
   "name": "python",
   "nbconvert_exporter": "python",
   "pygments_lexer": "ipython2",
   "version": "2.7.10"
  }
 },
 "nbformat": 4,
 "nbformat_minor": 2
}
